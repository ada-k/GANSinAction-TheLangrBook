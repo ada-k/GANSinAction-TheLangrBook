{
 "cells": [
  {
   "cell_type": "code",
   "execution_count": null,
   "metadata": {},
   "outputs": [],
   "source": [
    "# standard i mportation\n",
    "%matplotlib inline\n",
    "import matplotlib.pyplot as plt\n",
    "import numpy as np\n",
    "from keras.datasets import mnist\n",
    "from keras.layers import Dense, Flatten, Reshape\n",
    "from keras.layers.advanced_activations import LeakyReLU\n",
    "from keras.models import Sequential\n",
    "from keras.optimizers import Adam"
   ]
  },
  {
   "cell_type": "code",
   "execution_count": null,
   "metadata": {},
   "outputs": [],
   "source": [
    "# model input dimensions\n",
    "img_rows = 28\n",
    "img_cols = 28\n",
    "channels = 1 # grayscale image\n",
    "img_shape = (28, 28, 1) #input shape\n",
    "\n",
    "z_dim = 100 #size of noise vector (fed into Generator)"
   ]
  },
  {
   "cell_type": "code",
   "execution_count": null,
   "metadata": {},
   "outputs": [],
   "source": [
    "# generator network implementation\n",
    "'''a single hidden layer, z  ==  input, output ==  28  ×  28  ×  1  image. \n",
    "Leaky  ReLU == hidden layer activation  function. Unlike  a  regular  ReLU  function,  which  mapsany  negative  input  to  0,\n",
    "Leaky  ReLU  allows  a  small  positive  gradient. This  pre-vents  gradients  from  dying  out  during  training'''\n",
    "\n",
    "'''utput layer, we employ the tanh activation function, which scales the out-put values to the range [–1, 1]. \n",
    "The reason for using tanh (as opposed to, say, sigmoid,which would output values in the more typical 0 to 1 range)\n",
    "is that tanh tends to pro-duce crisper images.'''\n",
    "\n",
    "def implement_generator(img_shape, z_dim):\n",
    "    model = Sequential()\n",
    "    model.add(Dense(input_dim = z_dim)) #fully connected layer\n",
    "    model.add(LeakyReLU(alpha = .01))\n",
    "    model.add(Dense(28 * 28 * 1, activation = 'tanh'))\n",
    "    model.add(Reshape(img_shape)) #reshape output to image dimension\n",
    "    \n",
    "    return img_shape"
   ]
  },
  {
   "cell_type": "code",
   "execution_count": null,
   "metadata": {},
   "outputs": [],
   "source": []
  }
 ],
 "metadata": {
  "kernelspec": {
   "display_name": "Python 3",
   "language": "python",
   "name": "python3"
  },
  "language_info": {
   "codemirror_mode": {
    "name": "ipython",
    "version": 3
   },
   "file_extension": ".py",
   "mimetype": "text/x-python",
   "name": "python",
   "nbconvert_exporter": "python",
   "pygments_lexer": "ipython3",
   "version": "3.8.5"
  }
 },
 "nbformat": 4,
 "nbformat_minor": 4
}
